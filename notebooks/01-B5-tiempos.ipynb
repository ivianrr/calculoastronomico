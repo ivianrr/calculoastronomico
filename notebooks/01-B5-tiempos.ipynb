{
 "cells": [
  {
   "cell_type": "code",
   "execution_count": null,
   "metadata": {},
   "outputs": [],
   "source": [
    "import numpy as np\n",
    "import calculoastronomico.formats as cf\n",
    "from calculoastronomico.constant import *\n",
    "from calculoastronomico.transforms import *"
   ]
  },
  {
   "cell_type": "code",
   "execution_count": null,
   "metadata": {},
   "outputs": [],
   "source": [
    "h=cf.hhmmss_to_hour(1,11,55,30)\n",
    "a,m,d=[2022,6,24]\n",
    "print(\"a,m,d,h iniciales:\",a,m,d,h)\n",
    "jd=julian_date(a,m,d,h)\n",
    "print(\"Fecha juliana calculada:\",jd)\n",
    "print(\"Fecha separada, hora, hora inicial.\",split_julian_date(jd),h)\n",
    "a,m,d,h=gregorian_date(jd)\n",
    "print(\"Vuelta a fecha gregoriana:\",a,m,d,h)\n",
    "print(\"Horas a hhmmss:\",cf.hour_to_hhmmss(h))"
   ]
  },
  {
   "cell_type": "markdown",
   "metadata": {},
   "source": [
    "Prueba del foro:"
   ]
  },
  {
   "cell_type": "code",
   "execution_count": null,
   "metadata": {},
   "outputs": [],
   "source": [
    "\n",
    "h=cf.hhmmss_to_hour(1,10,00,00)\n",
    "a,m,d=[1958,10,9]\n",
    "print(\"a,m,d,h iniciales:\",a,m,d,h)\n",
    "jd=julian_date(a,m,d,h)\n",
    "print(\"Fecha juliana calculada:\",jd)\n",
    "print(\"Fecha separada, hora, hora inicial.\",split_julian_date(jd),h)\n",
    "a,m,d,h=gregorian_date(jd)\n",
    "print(\"Vuelta a fecha gregoriana:\",a,m,d,h)\n",
    "print(\"Horas a hhmmss:\",cf.hour_to_hhmmss(h))"
   ]
  },
  {
   "cell_type": "code",
   "execution_count": null,
   "metadata": {},
   "outputs": [],
   "source": [
    "h=cf.hhmmss_to_hour(1,12,00,00)\n",
    "a,m,d=[2022,6,24]\n",
    "jd=julian_date(a,m,d,h)\n",
    "print(jd)\n",
    "print(gregorian_date(jd))"
   ]
  },
  {
   "cell_type": "markdown",
   "metadata": {},
   "source": [
    "Comprobamos como de robosta es la rutina (Habria que añadir un error a jd). FUnciona mejor con round, aunque floor no deberia dar problemas si los jd tienen representacion exacta"
   ]
  },
  {
   "cell_type": "code",
   "execution_count": null,
   "metadata": {},
   "outputs": [],
   "source": [
    "print(days_between_dates(2022,2,1,2022,3,1))\n",
    "print(days_between_dates(2022,3,1,2022,2,1))\n",
    "print(days_between_dates(2024,2,1,2024,3,1))"
   ]
  },
  {
   "cell_type": "code",
   "execution_count": null,
   "metadata": {},
   "outputs": [],
   "source": [
    "gregorian_date(2000000)"
   ]
  },
  {
   "cell_type": "code",
   "execution_count": null,
   "metadata": {},
   "outputs": [],
   "source": [
    "round(julian_date(2022,6,24,12))%7+1"
   ]
  },
  {
   "cell_type": "code",
   "execution_count": null,
   "metadata": {},
   "outputs": [],
   "source": [
    "d=day_of_week(2022,6,24)\n",
    "print(\"El dia\",d,\"es\",week_day_name(d))"
   ]
  },
  {
   "cell_type": "markdown",
   "metadata": {},
   "source": []
  },
  {
   "cell_type": "code",
   "execution_count": null,
   "metadata": {},
   "outputs": [],
   "source": []
  }
 ],
 "metadata": {
  "interpreter": {
   "hash": "45191bebbaaca2a45e1ef8d4f69ed6ce1b861e31669d6b1375d42c01e883be29"
  },
  "kernelspec": {
   "display_name": "Python 3.10.4 ('calculoastronomico')",
   "language": "python",
   "name": "python3"
  },
  "language_info": {
   "codemirror_mode": {
    "name": "ipython",
    "version": 3
   },
   "file_extension": ".py",
   "mimetype": "text/x-python",
   "name": "python",
   "nbconvert_exporter": "python",
   "pygments_lexer": "ipython3",
   "version": "3.9.12"
  }
 },
 "nbformat": 4,
 "nbformat_minor": 2
}
