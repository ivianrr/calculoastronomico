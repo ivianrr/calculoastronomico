{
 "cells": [
  {
   "cell_type": "code",
   "execution_count": null,
   "metadata": {},
   "outputs": [],
   "source": [
    "import numpy as np\n",
    "import calculoastronomico.formats as cf\n",
    "from calculoastronomico.constant import *\n",
    "from calculoastronomico.transforms import terrestrial_coordinates"
   ]
  },
  {
   "cell_type": "markdown",
   "metadata": {},
   "source": [
    "# Test terrestrial_coordinates routine\n"
   ]
  },
  {
   "cell_type": "code",
   "execution_count": null,
   "metadata": {},
   "outputs": [],
   "source": [
    "lat=cf.degree_to_radian(41.648128)\n",
    "lon=cf.degree_to_radian(-4.734976)\n",
    "print(f\"{lat=}, {lon=}\")\n",
    "h=698\n",
    "\n",
    "x1=terrestrial_coordinates(lon,lat,h,dimensionless=True,fulloutput=True)\n",
    "x1"
   ]
  },
  {
   "cell_type": "markdown",
   "metadata": {},
   "source": [
    "Output del [comprobador de rutinas](https://astroserver.ftmc.uam.es/efemerides_online/comprobar_rutinas.php?rutina_id=31):"
   ]
  },
  {
   "cell_type": "markdown",
   "metadata": {},
   "source": [
    "~~~\n",
    "lon\tlat\th\n",
    "-0.082640921202911  \t+0.726896960892041  \t+698.000000000000000  \n",
    "x[0]\tx[1]\tx[2]\n",
    "+0.745874703178036  \t-0.061780480362528  \t+0.661156025767308  \n",
    "~~~\n"
   ]
  },
  {
   "cell_type": "markdown",
   "metadata": {},
   "source": [
    "Estimamos el error en metros respecto al comprobador de rutinas:"
   ]
  },
  {
   "cell_type": "code",
   "execution_count": null,
   "metadata": {},
   "outputs": [],
   "source": [
    "err1=(x1[0]-0.745874703178036)*r_e\n",
    "err2=(x1[1]+0.061780480362528)*r_e\n",
    "err3=(x1[2]-0.661156025767308)*r_e\n",
    "(err1,err2,err3)"
   ]
  },
  {
   "cell_type": "code",
   "execution_count": null,
   "metadata": {},
   "outputs": [],
   "source": []
  }
 ],
 "metadata": {
  "interpreter": {
   "hash": "45191bebbaaca2a45e1ef8d4f69ed6ce1b861e31669d6b1375d42c01e883be29"
  },
  "kernelspec": {
   "display_name": "Python 3.10.4 ('calculoastronomico')",
   "language": "python",
   "name": "python3"
  },
  "language_info": {
   "codemirror_mode": {
    "name": "ipython",
    "version": 3
   },
   "file_extension": ".py",
   "mimetype": "text/x-python",
   "name": "python",
   "nbconvert_exporter": "python",
   "pygments_lexer": "ipython3",
   "version": "3.9.12"
  }
 },
 "nbformat": 4,
 "nbformat_minor": 2
}
