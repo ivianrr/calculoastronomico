{
 "cells": [
  {
   "cell_type": "code",
   "execution_count": null,
   "metadata": {},
   "outputs": [],
   "source": [
    "import numpy as np\n",
    "import calculoastronomico.formats as cf\n",
    "from calculoastronomico.transforms import spherical_to_rectangular\n",
    "import math"
   ]
  },
  {
   "cell_type": "markdown",
   "metadata": {},
   "source": [
    "# Euler rotation angles to galactic coordinates from vector definitions\n"
   ]
  },
  {
   "cell_type": "code",
   "execution_count": null,
   "metadata": {},
   "outputs": [],
   "source": [
    "ax=cf.hhmmss_to_radian(1,17,45.6,0)\n",
    "dx=cf.degree_to_radian(-28.94)\n",
    "#alpha es phi, delta es theta\n",
    "e_xp=np.asarray(spherical_to_rectangular([dx,ax,1]))"
   ]
  },
  {
   "cell_type": "code",
   "execution_count": null,
   "metadata": {},
   "outputs": [],
   "source": [
    "az=cf.hhmmss_to_radian(1,12,51.4,0)\n",
    "dz=cf.degree_to_radian(27.13)\n",
    "#alpha es phi, delta es theta\n",
    "e_zp=np.asarray(spherical_to_rectangular([dz,az,1]))"
   ]
  },
  {
   "cell_type": "code",
   "execution_count": null,
   "metadata": {},
   "outputs": [],
   "source": [
    "e_yp=np.cross(e_zp,e_xp)\n",
    "e_yp/=np.linalg.norm(e_yp)"
   ]
  },
  {
   "cell_type": "code",
   "execution_count": null,
   "metadata": {},
   "outputs": [],
   "source": [
    "e_x=np.array([1,0,0])\n",
    "e_y=np.array([0,1,0])\n",
    "e_z=np.array([0,0,1])"
   ]
  },
  {
   "cell_type": "code",
   "execution_count": null,
   "metadata": {},
   "outputs": [],
   "source": [
    "a=np.cross(e_z,e_zp)\n",
    "a/=np.linalg.norm(a)"
   ]
  },
  {
   "cell_type": "code",
   "execution_count": null,
   "metadata": {},
   "outputs": [],
   "source": [
    "phi=math.atan2(a@e_y,a@e_x)\n",
    "xi=math.acos(e_z@e_zp)\n",
    "zeta=math.atan2(-a@e_yp,a@e_xp)"
   ]
  },
  {
   "cell_type": "code",
   "execution_count": null,
   "metadata": {},
   "outputs": [],
   "source": [
    "def sc(x):\n",
    "    \"\"\"Funcion auxiliar  para representar los angulos rapidamente.\"\"\"\n",
    "    return cf.scale_degree(cf.radian_to_degree(x))\n",
    "    \n",
    "print(f\"{sc(phi)=}\\n{sc(xi)=}\\n{sc(zeta)=}\")"
   ]
  },
  {
   "cell_type": "code",
   "execution_count": null,
   "metadata": {},
   "outputs": [],
   "source": []
  }
 ],
 "metadata": {
  "interpreter": {
   "hash": "45191bebbaaca2a45e1ef8d4f69ed6ce1b861e31669d6b1375d42c01e883be29"
  },
  "kernelspec": {
   "display_name": "Python 3.10.4 ('calculoastronomico')",
   "language": "python",
   "name": "python3"
  },
  "language_info": {
   "codemirror_mode": {
    "name": "ipython",
    "version": 3
   },
   "file_extension": ".py",
   "mimetype": "text/x-python",
   "name": "python",
   "nbconvert_exporter": "python",
   "pygments_lexer": "ipython3",
   "version": "3.9.12"
  }
 },
 "nbformat": 4,
 "nbformat_minor": 2
}
